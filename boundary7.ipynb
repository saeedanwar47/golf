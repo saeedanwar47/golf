{
 "cells": [
  {
   "cell_type": "code",
   "execution_count": 1,
   "metadata": {},
   "outputs": [],
   "source": [
    "import numpy as np \n",
    "import cv2 \n",
    "import matplotlib.pyplot as plt"
   ]
  },
  {
   "cell_type": "markdown",
   "metadata": {},
   "source": [
    "### Movie 4\n",
    "\n",
    "door bbox: 'x': 45, 'y': 106, 'width': 230, 'height': 555\n",
    "\n",
    "golf bbox: 'x': 276, 'y': 393, 'width': 176, 'height': 378"
   ]
  },
  {
   "cell_type": "markdown",
   "metadata": {},
   "source": [
    "# Approach 1\n",
    "1. Calculate the overlap of contour boxes of door with the bounding box of golf stick\n",
    "2. Take the box with maximum overlap with golf stick box and calculate the angle of the left edge of the box with the vertical edge of the image \n",
    "3. if no overlap is found, find the contour bbox closest to golf bbox and calculate its angle with the vertical axis of the image"
   ]
  },
  {
   "cell_type": "markdown",
   "metadata": {},
   "source": [
    "### Golf stick bbox"
   ]
  },
  {
   "cell_type": "code",
   "execution_count": 2,
   "metadata": {},
   "outputs": [],
   "source": [
    "# bbox of golf stick \n",
    "top_left_x = 276  # X coordinate of the top left corner\n",
    "top_left_y = 393  # Y coordinate of the top left corner\n",
    "crop_width = 176  # Width of the crop region\n",
    "crop_height = 378  # Height of the crop region"
   ]
  },
  {
   "cell_type": "markdown",
   "metadata": {},
   "source": [
    "### Contour bboxes of Door"
   ]
  },
  {
   "cell_type": "code",
   "execution_count": 3,
   "metadata": {},
   "outputs": [
    {
     "name": "stdout",
     "output_type": "stream",
     "text": [
      "(3, 960, 720)\n"
     ]
    },
    {
     "data": {
      "text/plain": [
       "(960, 720)"
      ]
     },
     "execution_count": 3,
     "metadata": {},
     "output_type": "execute_result"
    }
   ],
   "source": [
    "# make sure the contour bboxes are calculated on full scale image \n",
    "sam_mask = np.load('images/movie_4/movie_4_door_mask.npy')\n",
    "print(sam_mask.shape)\n",
    "\n",
    "boolean_mask = sam_mask[0]\n",
    "boolean_mask.shape"
   ]
  },
  {
   "cell_type": "code",
   "execution_count": 4,
   "metadata": {},
   "outputs": [],
   "source": [
    "# Convert boolean mask to an 8-bit unsigned integer mask\n",
    "int_mask = (boolean_mask * 255).astype(np.uint8)\n",
    "\n",
    "# Convert the mask to a BGR image\n",
    "bgr_mask = cv2.merge([int_mask, int_mask, int_mask])\n",
    "\n",
    "# Convert the mask to grayscale\n",
    "imgray = cv2.cvtColor(bgr_mask, cv2.COLOR_BGR2GRAY)\n",
    "\n",
    "# Threshold the grayscale image\n",
    "ret, thresh = cv2.threshold(imgray, 127, 255, 0)"
   ]
  },
  {
   "cell_type": "code",
   "execution_count": 5,
   "metadata": {},
   "outputs": [],
   "source": [
    "# Step 1: Find contours\n",
    "contours, _ = cv2.findContours(thresh, cv2.RETR_EXTERNAL, cv2.CHAIN_APPROX_SIMPLE)\n",
    "\n",
    "# Ensure there are contours found\n",
    "if len(contours) == 0:\n",
    "    raise ValueError(\"No contours found in the mask.\")"
   ]
  },
  {
   "cell_type": "code",
   "execution_count": 6,
   "metadata": {},
   "outputs": [
    {
     "data": {
      "text/plain": [
       "1"
      ]
     },
     "execution_count": 6,
     "metadata": {},
     "output_type": "execute_result"
    }
   ],
   "source": [
    "# there is only one contour, cool \n",
    "len(contours)"
   ]
  },
  {
   "cell_type": "code",
   "execution_count": 7,
   "metadata": {},
   "outputs": [],
   "source": [
    "# Step 2: Calculate the minimum area bounding rectangles for each contour\n",
    "# each min area rect is of the following format (center (x, y), (width, height), angle of rotation)\n",
    "min_area_rects = [cv2.minAreaRect(contour) for contour in contours]"
   ]
  },
  {
   "cell_type": "code",
   "execution_count": 8,
   "metadata": {},
   "outputs": [],
   "source": [
    "# calculate box points representing the 4 points of the rectangle (top-left, top-right, bottom-right, bottom-left)\n",
    "box_points = [np.intp(cv2.boxPoints(min_area_rect)) for min_area_rect in min_area_rects]"
   ]
  },
  {
   "cell_type": "markdown",
   "metadata": {},
   "source": [
    "### Draw the contour bboxes of the door"
   ]
  },
  {
   "cell_type": "code",
   "execution_count": 9,
   "metadata": {},
   "outputs": [],
   "source": [
    "import os \n",
    "dir_path = \"images/movie_4/contours\"\n",
    "os.makedirs(dir_path, exist_ok=True)\n",
    "\n",
    "count = 0\n",
    "for box_point in box_points:\n",
    "    # get bounding box image\n",
    "    bounding_box = cv2.drawContours(cv2.cvtColor(thresh.copy(), cv2.COLOR_GRAY2BGR), [box_point], 0, (0, 255, 0), 2)  # Color set to green (BGR format)\n",
    "\n",
    "    golf_bbox = cv2.rectangle(bounding_box, (top_left_x, top_left_y), (top_left_x+crop_width, top_left_y+crop_height), (0,0,255), 2)\n",
    "\n",
    "    # plot and save the image\n",
    "    plt.imsave(f\"{dir_path}/contour_{count}.png\", bounding_box)\n",
    "\n",
    "    count += 1"
   ]
  },
  {
   "cell_type": "code",
   "execution_count": 10,
   "metadata": {},
   "outputs": [
    {
     "data": {
      "image/png": "[encoded data removed]",
      "text/plain": [
       "<Figure size 640x480 with 1 Axes>"
      ]
     },
     "metadata": {},
     "output_type": "display_data"
    }
   ],
   "source": [
    "# Display the resulting image using matplotlib\n",
    "plt.imshow(bounding_box)\n",
    "plt.axis('off')  # Turn off axis numbers and ticks\n",
    "plt.show()"
   ]
  },
  {
   "cell_type": "markdown",
   "metadata": {},
   "source": [
    "### minArea Polygon instead of minarearect"
   ]
  },
  {
   "cell_type": "code",
   "execution_count": 11,
   "metadata": {},
   "outputs": [],
   "source": [
    "count = 0\n",
    "for contour in contours:\n",
    "    # Find the convex hull around a single contour \n",
    "    hull = cv2.convexHull(contour)\n",
    "\n",
    "    # Draw the convex hull\n",
    "    polygon = cv2.drawContours(cv2.cvtColor(thresh.copy(), cv2.COLOR_GRAY2BGR), [hull], 0, (0, 255, 0), 4)\n",
    "\n",
    "    # Display the result\n",
    "    # cv2.imshow('Image with min area rectangle and convex hull', polygon)\n",
    "    # cv2.waitKey(0)\n",
    "    # cv2.destroyAllWindows()\n",
    "    cv2.imwrite(f\"{dir_path}/bounding_polygon_{count}.png\", polygon)\n",
    "\n",
    "    count += 1"
   ]
  },
  {
   "cell_type": "code",
   "execution_count": 12,
   "metadata": {},
   "outputs": [
    {
     "data": {
      "text/plain": [
       "(960, 720, 3)"
      ]
     },
     "execution_count": 12,
     "metadata": {},
     "output_type": "execute_result"
    }
   ],
   "source": [
    "polygon.shape"
   ]
  },
  {
   "cell_type": "code",
   "execution_count": 13,
   "metadata": {},
   "outputs": [
    {
     "data": {
      "text/plain": [
       "array([  0, 255], dtype=uint8)"
      ]
     },
     "execution_count": 13,
     "metadata": {},
     "output_type": "execute_result"
    }
   ],
   "source": [
    "np.unique(polygon)"
   ]
  },
  {
   "cell_type": "markdown",
   "metadata": {},
   "source": [
    "### Find Contour bbox with max overlap with golf bbox"
   ]
  },
  {
   "cell_type": "code",
   "execution_count": 14,
   "metadata": {},
   "outputs": [],
   "source": [
    "from utils import find_max_overlap"
   ]
  },
  {
   "cell_type": "code",
   "execution_count": 15,
   "metadata": {},
   "outputs": [
    {
     "name": "stdout",
     "output_type": "stream",
     "text": [
      "Bounding box with maximum overlap: None\n",
      "Maximum IoU value: 0\n"
     ]
    }
   ],
   "source": [
    "golf_bbox = [top_left_x, top_left_y, top_left_x+crop_width, top_left_y+crop_height]\n",
    "\n",
    "max_overlap_box, max_iou = find_max_overlap(box_points, golf_bbox)\n",
    "print(\"Bounding box with maximum overlap:\", max_overlap_box)\n",
    "print(\"Maximum IoU value:\", max_iou)"
   ]
  },
  {
   "cell_type": "code",
   "execution_count": 16,
   "metadata": {},
   "outputs": [],
   "source": [
    "if max_overlap_box is not None:\n",
    "    # draw the bounding box with max overlap\n",
    "    bounding_box = cv2.drawContours(cv2.cvtColor(thresh.copy(), cv2.COLOR_GRAY2BGR), [max_overlap_box], 0, (0, 255, 0), 4)  # Color set to green (BGR format)\n",
    "\n",
    "    plt.figure(figsize=(20, 10))\n",
    "    plt.title(\"Max overlap contour bbox with golf stick\")\n",
    "    plt.imshow(bounding_box)\n",
    "    plt.show()\n"
   ]
  },
  {
   "cell_type": "code",
   "execution_count": 17,
   "metadata": {},
   "outputs": [
    {
     "data": {
      "image/png": "[encoded data removed]",
      "text/plain": [
       "<Figure size 640x480 with 1 Axes>"
      ]
     },
     "metadata": {},
     "output_type": "display_data"
    }
   ],
   "source": [
    "# Display the resulting image using matplotlib\n",
    "plt.imshow(bounding_box)\n",
    "plt.axis('off')  # Turn off axis numbers and ticks\n",
    "plt.show()"
   ]
  },
  {
   "cell_type": "code",
   "execution_count": 18,
   "metadata": {},
   "outputs": [],
   "source": [
    "plt.imsave(f\"{dir_path}/max_overlap_bbox.png\", bounding_box)"
   ]
  },
  {
   "cell_type": "markdown",
   "metadata": {},
   "source": [
    "### Calculate the angle of left vertical edge with image vertical axis"
   ]
  },
  {
   "cell_type": "code",
   "execution_count": 19,
   "metadata": {},
   "outputs": [],
   "source": [
    "from utils1 import calculate_vertical_edge_angle\n",
    "\n",
    "if max_overlap_box is not None:\n",
    "    angle_degrees = calculate_vertical_edge_angle(max_overlap_box)\n",
    "    print(angle_degrees)"
   ]
  },
  {
   "cell_type": "markdown",
   "metadata": {},
   "source": [
    "### Find the contour bbox that is closest to golf bbox \n",
    "If door is to the left, take the right edge of cotour bbox, else take the left edge"
   ]
  },
  {
   "cell_type": "code",
   "execution_count": 20,
   "metadata": {},
   "outputs": [
    {
     "data": {
      "text/plain": [
       "1"
      ]
     },
     "execution_count": 20,
     "metadata": {},
     "output_type": "execute_result"
    }
   ],
   "source": [
    "len(box_points)"
   ]
  },
  {
   "cell_type": "code",
   "execution_count": 21,
   "metadata": {},
   "outputs": [],
   "source": [
    "import math \n",
    "\n",
    "def bbox_angle(bbox):\n",
    "    # calculate the angle of the left vertical edge of bbox with vertical axis of image\n",
    "    sorted_points = bbox[np.argsort(bbox[:, 1])]\n",
    "    sorted_points = sorted_points[np.argsort(sorted_points[:, 0])]\n",
    "\n",
    "    # Identify the top-right and bottom-right vertices\n",
    "    # top-right: the point with maximum x-coordinate from the top two points\n",
    "    # bottom-right: the point with maximum x-coordinate from the bottom two points\n",
    "    top_two = sorted_points[:2]\n",
    "    bottom_two = sorted_points[2:]\n",
    "\n",
    "    top_right = top_two[np.argmax(top_two[:, 0])]\n",
    "    bottom_right = bottom_two[np.argmax(bottom_two[:, 0])]\n",
    "\n",
    "    # Calculate the differences in coordinates\n",
    "    dy = bottom_right[1] - top_right[1]\n",
    "    dx = bottom_right[0] - top_right[0]\n",
    "\n",
    "    # Calculate the angle in radians\n",
    "    angle_radians = math.atan2(dy, dx)\n",
    "\n",
    "    # Convert the angle to degrees\n",
    "    angle_degrees = math.degrees(angle_radians)\n",
    "\n",
    "    # Since we need the angle with the vertical edge (y-axis), we take 90 degrees minus the calculated angle\n",
    "    angle_with_vertical = 90 - angle_degrees\n",
    "\n",
    "    print(f\"Angle of the right vertical edge with the right edge of the image: {angle_with_vertical:.2f} degrees\")\n",
    "\n",
    "    return angle_with_vertical"
   ]
  },
  {
   "cell_type": "code",
   "execution_count": 22,
   "metadata": {},
   "outputs": [
    {
     "name": "stdout",
     "output_type": "stream",
     "text": [
      "Angle of the right vertical edge with the right edge of the image: 92.29 degrees\n"
     ]
    },
    {
     "data": {
      "text/plain": [
       "92.29061004263853"
      ]
     },
     "execution_count": 22,
     "metadata": {},
     "output_type": "execute_result"
    }
   ],
   "source": [
    "angle = bbox_angle(box_points[0])\n",
    "angle"
   ]
  },
  {
   "cell_type": "code",
   "execution_count": 23,
   "metadata": {},
   "outputs": [
    {
     "data": {
      "text/plain": [
       "-2.2906100426385336"
      ]
     },
     "execution_count": 23,
     "metadata": {},
     "output_type": "execute_result"
    }
   ],
   "source": [
    "90 - angle"
   ]
  },
  {
   "cell_type": "code",
   "execution_count": null,
   "metadata": {},
   "outputs": [],
   "source": []
  }
 ],
 "metadata": {
  "kernelspec": {
   "display_name": "ml",
   "language": "python",
   "name": "python3"
  },
  "language_info": {
   "codemirror_mode": {
    "name": "ipython",
    "version": 3
   },
   "file_extension": ".py",
   "mimetype": "text/x-python",
   "name": "python",
   "nbconvert_exporter": "python",
   "pygments_lexer": "ipython3",
   "version": "3.8.18"
  }
 },
 "nbformat": 4,
 "nbformat_minor": 2
}
