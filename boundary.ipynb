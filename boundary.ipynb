{
 "cells": [
  {
   "cell_type": "code",
   "execution_count": 1,
   "metadata": {},
   "outputs": [
    {
     "name": "stderr",
     "output_type": "stream",
     "text": [
      "\n",
      "image 1/1 /home/ammara/Documents/golf/phone.png: 640x640 1 person, 1 cell phone, 55.3ms\n",
      "Speed: 5.3ms preprocess, 55.3ms inference, 122.1ms postprocess per image at shape (1, 3, 640, 640)\n",
      "Results saved to \u001b[1mruns/segment/predict2\u001b[0m\n"
     ]
    },
    {
     "name": "stdout",
     "output_type": "stream",
     "text": [
      "mask 0\n",
      "mask 1\n"
     ]
    }
   ],
   "source": [
    "import cv2\n",
    "import numpy as np\n",
    "from ultralytics import YOLO\n",
    "\n",
    "# model = YOLO('yolov8n-seg.pt')\n",
    "model = YOLO('yolov8m-seg.pt')\n",
    "\n",
    "# Make predictions with the model\n",
    "filename = 'phone.png'\n",
    "results = model(filename, save=True, save_conf=True, conf=0.5)\n",
    "\n",
    "# Extract bounding boxes, classes, object names, confidence scores, and mask\n",
    "boxes = results[0].boxes.xyxy.tolist()\n",
    "classes = results[0].boxes.cls.tolist()\n",
    "names = results[0].names\n",
    "confidences = results[0].boxes.conf.tolist()\n",
    "masks = results[0].masks\n",
    "\n",
    "h, w = results[0].orig_shape"
   ]
  },
  {
   "cell_type": "code",
   "execution_count": 3,
   "metadata": {},
   "outputs": [
    {
     "data": {
      "text/plain": [
       "ultralytics.engine.results.Masks"
      ]
     },
     "execution_count": 3,
     "metadata": {},
     "output_type": "execute_result"
    }
   ],
   "source": [
    "type(masks)"
   ]
  },
  {
   "cell_type": "code",
   "execution_count": 4,
   "metadata": {},
   "outputs": [
    {
     "data": {
      "text/plain": [
       "torch.Size([2, 640, 640])"
      ]
     },
     "execution_count": 4,
     "metadata": {},
     "output_type": "execute_result"
    }
   ],
   "source": [
    "masks.shape"
   ]
  },
  {
   "cell_type": "code",
   "execution_count": null,
   "metadata": {},
   "outputs": [],
   "source": [
    "# Iterate through each detected object's box, class, confidence, and mask\n",
    "for i, tup in enumerate(zip(boxes, classes, confidences, masks)):\n",
    "    # print(mask)\n",
    "    # Your additional processing here\n",
    "    # ...\n",
    "    print(f\"mask {i}\")\n",
    "    box, cls, conf, mask = tup\n",
    "    image = np.zeros((h, w, 3), dtype=np.uint8)\n",
    "    for point in mask.xy[0]:\n",
    "        cv2.circle(image, (int(point[0]), int(point[1])), radius=2, color=(0, 128, 0), thickness=-1)\n",
    "    cv2.imwrite(filename[:-4] + '_mask_' + str(i) + '.jpg', image)"
   ]
  },
  {
   "cell_type": "code",
   "execution_count": 7,
   "metadata": {},
   "outputs": [
    {
     "data": {
      "text/plain": [
       "array([[     365.27,        96.1],\n",
       "       [     363.76,      97.609],\n",
       "       [     359.23,      97.609],\n",
       "       ...,\n",
       "       [     422.62,      97.609],\n",
       "       [     419.61,      97.609],\n",
       "       [      418.1,        96.1]], dtype=float32)"
      ]
     },
     "execution_count": 7,
     "metadata": {},
     "output_type": "execute_result"
    }
   ],
   "source": [
    "masks[0].xy[0]"
   ]
  },
  {
   "cell_type": "code",
   "execution_count": null,
   "metadata": {},
   "outputs": [],
   "source": []
  }
 ],
 "metadata": {
  "kernelspec": {
   "display_name": "ml",
   "language": "python",
   "name": "python3"
  },
  "language_info": {
   "codemirror_mode": {
    "name": "ipython",
    "version": 3
   },
   "file_extension": ".py",
   "mimetype": "text/x-python",
   "name": "python",
   "nbconvert_exporter": "python",
   "pygments_lexer": "ipython3",
   "version": "3.8.18"
  }
 },
 "nbformat": 4,
 "nbformat_minor": 2
}
