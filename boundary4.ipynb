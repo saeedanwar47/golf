{
 "cells": [
  {
   "cell_type": "code",
   "execution_count": 1,
   "metadata": {},
   "outputs": [],
   "source": [
    "import numpy as np \n",
    "import cv2 \n",
    "import matplotlib.pyplot as plt"
   ]
  },
  {
   "cell_type": "markdown",
   "metadata": {},
   "source": [
    "# Approach 1\n",
    "1. Calculate the overlap of contour boxes of door with the bounding box of golf stick\n",
    "2. Take the box with maximum overlap with golf stick box and calculate the angle of the left edge of the box with the vertical edge of the image "
   ]
  },
  {
   "cell_type": "markdown",
   "metadata": {},
   "source": [
    "### Golf stick bbox"
   ]
  },
  {
   "cell_type": "code",
   "execution_count": 2,
   "metadata": {},
   "outputs": [],
   "source": [
    "# bbox of golf stick \n",
    "top_left_x = 213  # X coordinate of the top left corner\n",
    "top_left_y = 628  # Y coordinate of the top left corner\n",
    "crop_width = 208  # Width of the crop region\n",
    "crop_height = 399  # Height of the crop region"
   ]
  },
  {
   "cell_type": "markdown",
   "metadata": {},
   "source": [
    "### Contour bboxes"
   ]
  },
  {
   "cell_type": "code",
   "execution_count": 3,
   "metadata": {},
   "outputs": [
    {
     "name": "stdout",
     "output_type": "stream",
     "text": [
      "(3, 1280, 720)\n"
     ]
    },
    {
     "data": {
      "text/plain": [
       "(1280, 720)"
      ]
     },
     "execution_count": 3,
     "metadata": {},
     "output_type": "execute_result"
    }
   ],
   "source": [
    "# make sure the contour bboxes are calculated on full scale image \n",
    "sam_mask = np.load('door_mask.npy')\n",
    "print(sam_mask.shape)\n",
    "\n",
    "boolean_mask = sam_mask[0]\n",
    "boolean_mask.shape"
   ]
  },
  {
   "cell_type": "code",
   "execution_count": 4,
   "metadata": {},
   "outputs": [],
   "source": [
    "# Convert boolean mask to an 8-bit unsigned integer mask\n",
    "int_mask = (boolean_mask * 255).astype(np.uint8)\n",
    "\n",
    "# Convert the mask to a BGR image\n",
    "bgr_mask = cv2.merge([int_mask, int_mask, int_mask])\n",
    "\n",
    "# Convert the mask to grayscale\n",
    "imgray = cv2.cvtColor(bgr_mask, cv2.COLOR_BGR2GRAY)\n",
    "\n",
    "# Threshold the grayscale image\n",
    "ret, thresh = cv2.threshold(imgray, 127, 255, 0)"
   ]
  },
  {
   "cell_type": "code",
   "execution_count": 5,
   "metadata": {},
   "outputs": [],
   "source": [
    "# Step 1: Find contours\n",
    "contours, _ = cv2.findContours(thresh, cv2.RETR_EXTERNAL, cv2.CHAIN_APPROX_SIMPLE)\n",
    "\n",
    "# Ensure there are contours found\n",
    "if len(contours) == 0:\n",
    "    raise ValueError(\"No contours found in the mask.\")"
   ]
  },
  {
   "cell_type": "code",
   "execution_count": 6,
   "metadata": {},
   "outputs": [
    {
     "data": {
      "text/plain": [
       "12"
      ]
     },
     "execution_count": 6,
     "metadata": {},
     "output_type": "execute_result"
    }
   ],
   "source": [
    "len(contours)"
   ]
  },
  {
   "cell_type": "code",
   "execution_count": 10,
   "metadata": {},
   "outputs": [],
   "source": [
    "# Step 2: Calculate the minimum area bounding rectangles for each contour\n",
    "# each min area rect is of the following format (center (x, y), (width, height), angle of rotation)\n",
    "min_area_rects = [cv2.minAreaRect(contour) for contour in contours]"
   ]
  },
  {
   "cell_type": "code",
   "execution_count": 11,
   "metadata": {},
   "outputs": [],
   "source": [
    "# calculate box points representing the 4 points of the rectangle (top-left, top-right, bottom-right, bottom-left)\n",
    "box_points = [np.intp(cv2.boxPoints(min_area_rect)) for min_area_rect in min_area_rects]"
   ]
  },
  {
   "cell_type": "markdown",
   "metadata": {},
   "source": [
    "### Find Contour bbox with max overlap with golf bbox"
   ]
  },
  {
   "cell_type": "code",
   "execution_count": 19,
   "metadata": {},
   "outputs": [],
   "source": [
    "# calculate the overlap between box points and golf bbox, find the box with maximum overlap \n",
    "def calculate_iou(box1, box2):\n",
    "    \"\"\"\n",
    "    Calculate the Intersection over Union (IoU) of two bounding boxes.\n",
    "\n",
    "    Parameters:\n",
    "    box1, box2: list of four integers [xmin, ymin, xmax, ymax]\n",
    "\n",
    "    Returns:\n",
    "    float: IoU value\n",
    "    \"\"\"\n",
    "    # Unpack coordinates\n",
    "    x1_min, y1_min, x1_max, y1_max  = box1[0][0], box1[0][1], box1[2][0], box1[2][1]\n",
    "    x2_min, y2_min, x2_max, y2_max = box2\n",
    "    \n",
    "    # Calculate intersection coordinates\n",
    "    inter_xmin = max(x1_min, x2_min)\n",
    "    inter_ymin = max(y1_min, y2_min)\n",
    "    inter_xmax = min(x1_max, x2_max)\n",
    "    inter_ymax = min(y1_max, y2_max)\n",
    "    \n",
    "    # Calculate area of intersection\n",
    "    inter_width = max(0, inter_xmax - inter_xmin)\n",
    "    inter_height = max(0, inter_ymax - inter_ymin)\n",
    "    inter_area = inter_width * inter_height\n",
    "    \n",
    "    # Calculate area of each bounding box\n",
    "    box1_area = (x1_max - x1_min) * (y1_max - y1_min)\n",
    "    box2_area = (x2_max - x2_min) * (y2_max - y2_min)\n",
    "    \n",
    "    # Calculate IoU\n",
    "    union_area = box1_area + box2_area - inter_area\n",
    "    iou = inter_area / union_area\n",
    "    \n",
    "    return iou"
   ]
  },
  {
   "cell_type": "code",
   "execution_count": 20,
   "metadata": {},
   "outputs": [],
   "source": [
    "def find_max_overlap(bounding_boxes, reference_box):\n",
    "    \"\"\"\n",
    "    Find the bounding box with the maximum overlap with the reference box.\n",
    "\n",
    "    Parameters:\n",
    "    bounding_boxes: list of lists, where each inner list represents a bounding box [xmin, ymin, xmax, ymax]\n",
    "    reference_box: list of four integers [xmin, ymin, xmax, ymax]\n",
    "\n",
    "    Returns:\n",
    "    tuple: (bounding box with max overlap, IoU value)\n",
    "    \"\"\"\n",
    "    max_iou = 0\n",
    "    max_overlap_box = None\n",
    "    \n",
    "    for box in bounding_boxes:\n",
    "        iou = calculate_iou(box, reference_box)\n",
    "        if iou > max_iou:\n",
    "            max_iou = iou\n",
    "            max_overlap_box = box\n",
    "    \n",
    "    return max_overlap_box, max_iou"
   ]
  },
  {
   "cell_type": "code",
   "execution_count": 22,
   "metadata": {},
   "outputs": [
    {
     "name": "stdout",
     "output_type": "stream",
     "text": [
      "Bounding box with maximum overlap: [[276 351]\n",
      " [368 350]\n",
      " [371 901]\n",
      " [280 902]]\n",
      "Maximum IoU value: 0.23726751260212064\n"
     ]
    }
   ],
   "source": [
    "golf_bbox = [top_left_x, top_left_y, top_left_x+crop_width, top_left_y+crop_height]\n",
    "\n",
    "max_overlap_box, max_iou = find_max_overlap(box_points, golf_bbox)\n",
    "print(\"Bounding box with maximum overlap:\", max_overlap_box)\n",
    "print(\"Maximum IoU value:\", max_iou)"
   ]
  },
  {
   "cell_type": "code",
   "execution_count": 24,
   "metadata": {},
   "outputs": [
    {
     "data": {
      "image/png": "[encoded data removed]",
      "text/plain": [
       "<Figure size 2000x1000 with 1 Axes>"
      ]
     },
     "metadata": {},
     "output_type": "display_data"
    }
   ],
   "source": [
    "# draw the bounding box with max overlap\n",
    "bounding_box = cv2.drawContours(cv2.cvtColor(thresh.copy(), cv2.COLOR_GRAY2BGR), [max_overlap_box], 0, (0, 255, 0), 4)  # Color set to green (BGR format)\n",
    "\n",
    "plt.figure(figsize=(20, 10))\n",
    "plt.title(\"Max overlap contour bbox with golf stick\")\n",
    "plt.imshow(bounding_box)\n",
    "plt.show()\n"
   ]
  },
  {
   "cell_type": "markdown",
   "metadata": {},
   "source": [
    "### Calculate the angle of left vertical edge with image vertical axis"
   ]
  },
  {
   "cell_type": "code",
   "execution_count": 25,
   "metadata": {},
   "outputs": [
    {
     "name": "stdout",
     "output_type": "stream",
     "text": [
      "Angle of the right vertical edge with the right edge of the image: 90.63 degrees\n"
     ]
    }
   ],
   "source": [
    "# calculate the angle of the left vertical edge of bbox with vertical axis of image\n",
    "import math \n",
    "\n",
    "sorted_points = max_overlap_box[np.argsort(max_overlap_box[:, 1])]\n",
    "sorted_points = sorted_points[np.argsort(sorted_points[:, 0])]\n",
    "\n",
    "# Identify the top-right and bottom-right vertices\n",
    "# top-right: the point with maximum x-coordinate from the top two points\n",
    "# bottom-right: the point with maximum x-coordinate from the bottom two points\n",
    "top_two = sorted_points[:2]\n",
    "bottom_two = sorted_points[2:]\n",
    "\n",
    "top_right = top_two[np.argmax(top_two[:, 0])]\n",
    "bottom_right = bottom_two[np.argmax(bottom_two[:, 0])]\n",
    "\n",
    "# Calculate the differences in coordinates\n",
    "dy = bottom_right[1] - top_right[1]\n",
    "dx = bottom_right[0] - top_right[0]\n",
    "\n",
    "# Calculate the angle in radians\n",
    "angle_radians = math.atan2(dy, dx)\n",
    "\n",
    "# Convert the angle to degrees\n",
    "angle_degrees = math.degrees(angle_radians)\n",
    "\n",
    "# Since we need the angle with the vertical edge (y-axis), we take 90 degrees minus the calculated angle\n",
    "angle_with_vertical = 90 - angle_degrees\n",
    "\n",
    "print(f\"Angle of the right vertical edge with the right edge of the image: {angle_with_vertical:.2f} degrees\")"
   ]
  },
  {
   "cell_type": "code",
   "execution_count": 26,
   "metadata": {},
   "outputs": [
    {
     "data": {
      "text/plain": [
       "-0.6295986084102668"
      ]
     },
     "execution_count": 26,
     "metadata": {},
     "output_type": "execute_result"
    }
   ],
   "source": [
    "angle_degrees"
   ]
  },
  {
   "cell_type": "code",
   "execution_count": null,
   "metadata": {},
   "outputs": [],
   "source": []
  }
 ],
 "metadata": {
  "kernelspec": {
   "display_name": "ml",
   "language": "python",
   "name": "python3"
  },
  "language_info": {
   "codemirror_mode": {
    "name": "ipython",
    "version": 3
   },
   "file_extension": ".py",
   "mimetype": "text/x-python",
   "name": "python",
   "nbconvert_exporter": "python",
   "pygments_lexer": "ipython3",
   "version": "3.8.18"
  }
 },
 "nbformat": 4,
 "nbformat_minor": 2
}
